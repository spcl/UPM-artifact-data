{
 "cells": [
  {
   "cell_type": "code",
   "execution_count": 10,
   "id": "8401e5b0",
   "metadata": {},
   "outputs": [
    {
     "name": "stdout",
     "output_type": "stream",
     "text": [
      "    search_time  add_time  replace_time  spin_time  follow_time  hash_time  \\\n",
      "0         34417     23483             0      13793         5777      80792   \n",
      "1        256333      4261         26146       8204         6042      81107   \n",
      "2        255583      4241         26041       8265         6164      80283   \n",
      "3        257287      4160         26023       8152         6048      78451   \n",
      "4        263299      3691         27223       8122         6070      79438   \n",
      "5        292601      1284         29892       7305         6149      72918   \n",
      "6        289195      2455         21683       7692         6036      80378   \n",
      "7        254305      3656         18914       8518         6231      70445   \n",
      "8        262285      4347         27129       8128         6604      82800   \n",
      "9        250237      3938         19039       8405         6392      69771   \n",
      "10       280451      2642         28203       7829         6275      79575   \n",
      "11       251892      3999         26000       8383         6329      67361   \n",
      "12       269986      2740         22888       8097         6377      72083   \n",
      "13       265830      3558         21550       8037         6201      74889   \n",
      "14       267534      3119         20827       8078         6134      72837   \n",
      "15       269502      4339         27580       8318         6349      80722   \n",
      "\n",
      "    check_time  madvise_time  \n",
      "0       127158        258025  \n",
      "1        42119        420312  \n",
      "2        41483        418813  \n",
      "3        41528        418750  \n",
      "4        37663        421122  \n",
      "5        22867        429611  \n",
      "6        26132        436772  \n",
      "7        43705        409188  \n",
      "8        56478        443913  \n",
      "9        44914        405536  \n",
      "10       30788        432026  \n",
      "11       41837        401316  \n",
      "12       38842        421931  \n",
      "13       37188        418522  \n",
      "14       36063        417191  \n",
      "15       44614        437568  \n",
      "search: 62.94947186537664\n",
      "add: 0.8279417633059305\n",
      "replace: 5.829196388007335\n",
      "spin: 1.919173113100508\n",
      "follow: 1.4749301665942631\n",
      "hash: 18.050456915524514\n",
      "check: 9.257235331431737\n"
     ]
    }
   ],
   "source": [
    "import pandas as pd\n",
    "import matplotlib.pyplot as plt\n",
    "import sys\n",
    "import os\n",
    "import json\n",
    "import numpy as np\n",
    "\n",
    "usm_data_dir = r\"C:\\Users\\facel\\usm_plot_data_needed\"\n",
    "machine = r\"einstein_vm\"\n",
    "# benchmark = \"411.image-recognition\"\n",
    "\n",
    "data = pd.read_csv(os.path.join(usm_data_dir, machine, \"time_cost/usm_function_cost\", \"high_level_time.csv\"))\n",
    "print(data)\n",
    "search_time_mean = np.mean(data[\"search_time\"][1:])\n",
    "add_time_mean = np.mean(data[\"add_time\"][1:])\n",
    "replace_time_mean = np.mean(data[\"replace_time\"][1:])\n",
    "spin_time_mean = np.mean(data[\"spin_time\"][1:])\n",
    "follow_time_mean = np.mean(data[\"follow_time\"][1:])\n",
    "hash_time_mean = np.mean(data[\"hash_time\"][1:])\n",
    "check_time_mean = np.mean(data[\"check_time\"][1:])\n",
    "madvise_time_mean = np.mean(data[\"madvise_time\"][1:])\n",
    "\n",
    "print(\"search:\", search_time_mean / madvise_time_mean * 100)\n",
    "print(\"add:\", add_time_mean / madvise_time_mean * 100)\n",
    "print(\"replace:\", replace_time_mean / madvise_time_mean * 100)\n",
    "print(\"spin:\", spin_time_mean / madvise_time_mean * 100)\n",
    "print(\"follow:\", follow_time_mean / madvise_time_mean * 100)\n",
    "print(\"hash:\", hash_time_mean / madvise_time_mean * 100)\n",
    "print(\"check:\", check_time_mean / madvise_time_mean * 100)\n",
    "\n",
    "\n",
    "y = []\n",
    "y.append(search_time_mean / madvise_time_mean * 100)\n",
    "y.append(add_time_mean / madvise_time_mean * 100)\n",
    "y.append(replace_time_mean / madvise_time_mean * 100)\n",
    "y.append(spin_time_mean / madvise_time_mean * 100)\n",
    "y.append(follow_time_mean / madvise_time_mean * 100)\n",
    "y.append(hash_time_mean / madvise_time_mean * 100)\n",
    "y.append(check_time_mean / madvise_time_mean * 100)\n"
   ]
  },
  {
   "cell_type": "code",
   "execution_count": 11,
   "id": "602d30f4",
   "metadata": {},
   "outputs": [],
   "source": [
    "# search follow hash check 91.6"
   ]
  },
  {
   "cell_type": "code",
   "execution_count": 12,
   "id": "2e934236",
   "metadata": {},
   "outputs": [],
   "source": [
    "# search:68.6 hash 19.6 check 10.1 "
   ]
  },
  {
   "cell_type": "code",
   "execution_count": null,
   "id": "72bfa197",
   "metadata": {},
   "outputs": [],
   "source": []
  }
 ],
 "metadata": {
  "kernelspec": {
   "display_name": "Python 3 (ipykernel)",
   "language": "python",
   "name": "python3"
  },
  "language_info": {
   "codemirror_mode": {
    "name": "ipython",
    "version": 3
   },
   "file_extension": ".py",
   "mimetype": "text/x-python",
   "name": "python",
   "nbconvert_exporter": "python",
   "pygments_lexer": "ipython3",
   "version": "3.10.12"
  }
 },
 "nbformat": 4,
 "nbformat_minor": 5
}
