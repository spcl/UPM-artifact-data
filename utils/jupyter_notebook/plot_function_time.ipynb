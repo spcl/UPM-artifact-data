{
 "cells": [
  {
   "cell_type": "code",
   "execution_count": 4,
   "id": "4d5f021d",
   "metadata": {},
   "outputs": [
    {
     "ename": "SyntaxError",
     "evalue": "invalid syntax (Temp/ipykernel_20252/3226789981.py, line 13)",
     "output_type": "error",
     "traceback": [
      "\u001b[1;36m  File \u001b[1;32m\"C:\\Users\\facel\\AppData\\Local\\Temp/ipykernel_20252/3226789981.py\"\u001b[1;36m, line \u001b[1;32m13\u001b[0m\n\u001b[1;33m    usm_data_dir =\u001b[0m\n\u001b[1;37m                   ^\u001b[0m\n\u001b[1;31mSyntaxError\u001b[0m\u001b[1;31m:\u001b[0m invalid syntax\n"
     ]
    }
   ],
   "source": [
    "import pandas as pd\n",
    "import matplotlib.pyplot as plt\n",
    "import sys\n",
    "import os\n",
    "import json\n",
    "\n",
    "#./plot_function_time.py $machine\n",
    "\n",
    "\n",
    "# machine = sys.argv[1]  # 0 is the current script name\n",
    "machine = \"einstein_vm/\"\n",
    "\n",
    "# usm_data_dir = \"\"\n",
    "\n",
    "# the ith element means the avg and error of the ith container\n",
    "madvise_time_avg = []\n",
    "madvise_time_err = []\n",
    "function_time_avg = []\n",
    "function_time_err = []\n",
    "total_time_avg = []\n",
    "total_time_err = []\n",
    "\n",
    "x = range(1, 17)\n",
    "t = 10\n",
    "c = 16\n",
    "madvise_time_array = [[0 for x in range(c)] for y in range(t)]\n",
    "function_time_array = [[0 for x in range(c)] for y in range(t)]\n",
    "total_time_array = [[0 for x in range(c)] for y in range(t)]\n",
    "\n",
    "for i in range(1, 11):\n",
    "    times_dir = \"times\" + str(i)\n",
    "    \n",
    "    for j in range(1, 17):\n",
    "        container_file = \"container\" + str(j) + \".json\"\n",
    "        f = open(os.path.join(\"/root/usm_plot_data_needed/\", machine, \"time_cost/\", times_dir + \"/\", container_file))\n",
    "        json_data = json.load(f)\n",
    "        madvise_time = json_data[\"result\"][\"measurement\"][madvise_time]\n",
    "        total_time = json_data[\"result\"][\"measurement\"][handler_time]\n",
    "        function_time = json_data[\"result\"][\"measurement\"][download_time] + json_data[\"result\"][\"measurement\"][compute_time]\n",
    "        madvise_time_array[j][i].append(madvise_time)\n",
    "        function_time_array[j][i].append(function_time)\n",
    "        total_time_array[j][i].append(total_time)\n",
    "\n",
    "for j in range(1, 17):\n",
    "    madvise_time_avg.append(np.mean(madvise_time_array[j]))\n",
    "    madvise_time_err.append(np.std(madvise_time_array[j]))\n",
    "    function_time_avg.append(np.mean(function_time_array[j]))\n",
    "    function_time_err.append(np.std(function_time_array[j]))\n",
    "    total_time_avg.append(np.mean(total_time_array[j]))\n",
    "    total_time_err.append(np.std(total_time_array[j]))\n",
    "    \n",
    "plt.errorbar(x, madvise_time_avg, madvise_time_err, label='madvise_time')\n",
    "plt.errorbar(x, function_time_avg, function_time_err, label='function_time')\n",
    "plt.errorbar(x, total_time_avg, total_time_err, label='total_time')\n",
    "\n",
    "plt.rcParams['figure.dpi'] = 500\n",
    "\n",
    "plt.title(\"Time cost of USM on image-recognition\")\n",
    "plt.xlabel('Container')\n",
    "plt.ylabel('Time (s)')\n",
    "# plt.ylim(ymin=0)\n",
    "plt.legend()\n",
    "plt.savefig('function_time.jpg')\n",
    "\n",
    "#plt.show()\n"
   ]
  },
  {
   "cell_type": "code",
   "execution_count": 6,
   "id": "d2e96133",
   "metadata": {},
   "outputs": [
    {
     "name": "stdout",
     "output_type": "stream",
     "text": [
      "times0\n",
      "times1\n",
      "times2\n"
     ]
    }
   ],
   "source": [
    "for i in range(0,3):\n",
    "    print(\"times\" + str(i))"
   ]
  },
  {
   "cell_type": "code",
   "execution_count": null,
   "id": "a2345589",
   "metadata": {},
   "outputs": [],
   "source": []
  }
 ],
 "metadata": {
  "kernelspec": {
   "display_name": "Python 3 (ipykernel)",
   "language": "python",
   "name": "python3"
  },
  "language_info": {
   "codemirror_mode": {
    "name": "ipython",
    "version": 3
   },
   "file_extension": ".py",
   "mimetype": "text/x-python",
   "name": "python",
   "nbconvert_exporter": "python",
   "pygments_lexer": "ipython3",
   "version": "3.10.12"
  }
 },
 "nbformat": 4,
 "nbformat_minor": 5
}
